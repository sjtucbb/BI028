{
 "cells": [
  {
   "cell_type": "markdown",
   "metadata": {},
   "source": [
    "# Linux Programming for Bioinformatics\n",
    "___\n",
    "\n",
    "## Contents\n",
    "\n",
    "1. Computer Science Fundamental Knowledge\n",
    "    - hardwares: CPU/memory/storage\n",
    "    - binary systems\n",
    "2. Linux Command Line Interface (CLI)\n",
    "    - Command line syntax\n",
    "    - File processing: touch/cat/more/less/file\n",
    "    - Directory processing: mkdir/cd/rmdir/mv/ls\n",
    "    - File editor: vim/gedit\n",
    "    - file searching: find, xargs, which, whereis, locate\n",
    "    - help: man/apropos/info\n",
    "    - compression and decompression: tar, gzip, bzip2, zip\n",
    "    - pipe and redirection\n",
    "    - environment processing: env/export\n",
    "3. Regular Expression (Regexp)\n",
    "    - basic regular expression (BRE)\n",
    "    - extended regular expression (ERE)\n",
    "    - perl regular expression (PRE)\n",
    "    - grep/sed/awk\n",
    "4. Shell Programming\n",
    "    - shells\n",
    "    - bash programming\n",
    "5. Linux System Administration\n",
    "    - file system management\n",
    "    - process management\n",
    "    - C programming in Linux\n",
    "6. Python Programming\n",
    "    - basic python\n",
    "    - advanced python\n",
    "    - scientific computing: numpy/scipy/matplotlib/pandas\n",
    "    - machine learning with python\n",
    "7. High-Performance Computing (HPC)\n",
    "    - multi-process programming\n",
    "    - multi-thread programming"
   ]
  }
 ],
 "metadata": {
  "kernelspec": {
   "display_name": "Python 2",
   "language": "python",
   "name": "python2"
  },
  "language_info": {
   "codemirror_mode": {
    "name": "ipython",
    "version": 2
   },
   "file_extension": ".py",
   "mimetype": "text/x-python",
   "name": "python",
   "nbconvert_exporter": "python",
   "pygments_lexer": "ipython2",
   "version": "2.7.11"
  }
 },
 "nbformat": 4,
 "nbformat_minor": 0
}
